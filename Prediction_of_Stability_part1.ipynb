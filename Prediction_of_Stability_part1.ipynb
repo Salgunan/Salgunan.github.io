{
 "cells": [
  {
   "cell_type": "markdown",
   "id": "2156ffd5-c84e-43e4-96ea-a929c9331476",
   "metadata": {},
   "source": [
    "### following from Relevant features"
   ]
  },
  {
   "cell_type": "code",
   "execution_count": 152,
   "id": "6ce8ebaa-f696-476b-8216-ebd27e13906b",
   "metadata": {},
   "outputs": [],
   "source": [
    "import pandas as pd"
   ]
  },
  {
   "cell_type": "code",
   "execution_count": 154,
   "id": "30be8b62-8aa5-4905-9413-3c5b92d240b8",
   "metadata": {},
   "outputs": [
    {
     "name": "stdout",
     "output_type": "stream",
     "text": [
      "excel file is read\n"
     ]
    }
   ],
   "source": [
    "df = pd.read_excel('Relevant_features.xlsx')\n",
    "print(\"excel file is read\")"
   ]
  },
  {
   "cell_type": "code",
   "execution_count": 155,
   "id": "7d50dd93-ee53-4e1e-97c5-b5ad2476e703",
   "metadata": {},
   "outputs": [],
   "source": [
    "df.drop(['Stability_PCE_initial_value'],axis = 1, inplace = True)"
   ]
  },
  {
   "cell_type": "code",
   "execution_count": 158,
   "id": "67216725-986c-41de-843f-6a038ca13942",
   "metadata": {},
   "outputs": [
    {
     "name": "stdout",
     "output_type": "stream",
     "text": [
      "<class 'pandas.core.frame.DataFrame'>\n",
      "RangeIndex: 43398 entries, 0 to 43397\n",
      "Data columns (total 15 columns):\n",
      " #   Column                            Non-Null Count  Dtype  \n",
      "---  ------                            --------------  -----  \n",
      " 0   JV_reverse_scan_Voc               40428 non-null  float64\n",
      " 1   JV_reverse_scan_Jsc               40462 non-null  float64\n",
      " 2   JV_reverse_scan_FF                40277 non-null  float64\n",
      " 3   JV_reverse_scan_PCE               41580 non-null  float64\n",
      " 4   JV_forward_scan_Voc               9232 non-null   float64\n",
      " 5   JV_forward_scan_Jsc               9249 non-null   float64\n",
      " 6   JV_forward_scan_FF                9199 non-null   float64\n",
      " 7   JV_forward_scan_PCE               9421 non-null   float64\n",
      " 8   JV_default_PCE                    42370 non-null  float64\n",
      " 9   Stabilised_performance_PCE        3439 non-null   float64\n",
      " 10  EQE_integrated_Jsc                5595 non-null   float64\n",
      " 11  Stability_time_total_exposure     7405 non-null   float64\n",
      " 12  Stability_PCE_end_of_experiment   7376 non-null   float64\n",
      " 13  Stability_PCE_T80                 1839 non-null   float64\n",
      " 14  Perovskite_composition_long_form  43335 non-null  object \n",
      "dtypes: float64(14), object(1)\n",
      "memory usage: 5.0+ MB\n"
     ]
    }
   ],
   "source": [
    "df.info()"
   ]
  },
  {
   "cell_type": "code",
   "execution_count": 160,
   "id": "34ac6e5c-8b4c-4e6a-8a1b-115822bd376e",
   "metadata": {},
   "outputs": [
    {
     "data": {
      "text/html": [
       "<div>\n",
       "<style scoped>\n",
       "    .dataframe tbody tr th:only-of-type {\n",
       "        vertical-align: middle;\n",
       "    }\n",
       "\n",
       "    .dataframe tbody tr th {\n",
       "        vertical-align: top;\n",
       "    }\n",
       "\n",
       "    .dataframe thead th {\n",
       "        text-align: right;\n",
       "    }\n",
       "</style>\n",
       "<table border=\"1\" class=\"dataframe\">\n",
       "  <thead>\n",
       "    <tr style=\"text-align: right;\">\n",
       "      <th></th>\n",
       "      <th>JV_reverse_scan_Voc</th>\n",
       "      <th>JV_reverse_scan_Jsc</th>\n",
       "      <th>JV_reverse_scan_FF</th>\n",
       "      <th>JV_reverse_scan_PCE</th>\n",
       "      <th>JV_forward_scan_Voc</th>\n",
       "      <th>JV_forward_scan_Jsc</th>\n",
       "      <th>JV_forward_scan_FF</th>\n",
       "      <th>JV_forward_scan_PCE</th>\n",
       "      <th>JV_default_PCE</th>\n",
       "      <th>Stabilised_performance_PCE</th>\n",
       "      <th>EQE_integrated_Jsc</th>\n",
       "      <th>Stability_time_total_exposure</th>\n",
       "      <th>Stability_PCE_end_of_experiment</th>\n",
       "      <th>Stability_PCE_T80</th>\n",
       "    </tr>\n",
       "  </thead>\n",
       "  <tbody>\n",
       "    <tr>\n",
       "      <th>JV_reverse_scan_Voc</th>\n",
       "      <td>1.000000</td>\n",
       "      <td>0.396239</td>\n",
       "      <td>0.526231</td>\n",
       "      <td>0.601405</td>\n",
       "      <td>0.757450</td>\n",
       "      <td>0.359474</td>\n",
       "      <td>0.347787</td>\n",
       "      <td>0.523787</td>\n",
       "      <td>0.604563</td>\n",
       "      <td>0.315527</td>\n",
       "      <td>0.055878</td>\n",
       "      <td>0.030846</td>\n",
       "      <td>0.073272</td>\n",
       "      <td>0.069499</td>\n",
       "    </tr>\n",
       "    <tr>\n",
       "      <th>JV_reverse_scan_Jsc</th>\n",
       "      <td>0.396239</td>\n",
       "      <td>1.000000</td>\n",
       "      <td>0.480227</td>\n",
       "      <td>0.792943</td>\n",
       "      <td>0.292183</td>\n",
       "      <td>0.947330</td>\n",
       "      <td>0.429541</td>\n",
       "      <td>0.743956</td>\n",
       "      <td>0.798684</td>\n",
       "      <td>0.733751</td>\n",
       "      <td>0.897878</td>\n",
       "      <td>-0.009484</td>\n",
       "      <td>-0.018700</td>\n",
       "      <td>0.037140</td>\n",
       "    </tr>\n",
       "    <tr>\n",
       "      <th>JV_reverse_scan_FF</th>\n",
       "      <td>0.526231</td>\n",
       "      <td>0.480227</td>\n",
       "      <td>1.000000</td>\n",
       "      <td>0.744813</td>\n",
       "      <td>0.376119</td>\n",
       "      <td>0.467828</td>\n",
       "      <td>0.711251</td>\n",
       "      <td>0.686057</td>\n",
       "      <td>0.749528</td>\n",
       "      <td>0.622513</td>\n",
       "      <td>0.364848</td>\n",
       "      <td>0.002138</td>\n",
       "      <td>0.058824</td>\n",
       "      <td>0.061790</td>\n",
       "    </tr>\n",
       "    <tr>\n",
       "      <th>JV_reverse_scan_PCE</th>\n",
       "      <td>0.601405</td>\n",
       "      <td>0.792943</td>\n",
       "      <td>0.744813</td>\n",
       "      <td>1.000000</td>\n",
       "      <td>0.481247</td>\n",
       "      <td>0.780894</td>\n",
       "      <td>0.641601</td>\n",
       "      <td>0.934010</td>\n",
       "      <td>0.986421</td>\n",
       "      <td>0.943011</td>\n",
       "      <td>0.778689</td>\n",
       "      <td>0.002216</td>\n",
       "      <td>0.069722</td>\n",
       "      <td>0.076513</td>\n",
       "    </tr>\n",
       "    <tr>\n",
       "      <th>JV_forward_scan_Voc</th>\n",
       "      <td>0.757450</td>\n",
       "      <td>0.292183</td>\n",
       "      <td>0.376119</td>\n",
       "      <td>0.481247</td>\n",
       "      <td>1.000000</td>\n",
       "      <td>0.348645</td>\n",
       "      <td>0.364296</td>\n",
       "      <td>0.520021</td>\n",
       "      <td>0.515718</td>\n",
       "      <td>0.481349</td>\n",
       "      <td>0.181276</td>\n",
       "      <td>0.036842</td>\n",
       "      <td>0.133100</td>\n",
       "      <td>0.141633</td>\n",
       "    </tr>\n",
       "    <tr>\n",
       "      <th>JV_forward_scan_Jsc</th>\n",
       "      <td>0.359474</td>\n",
       "      <td>0.947330</td>\n",
       "      <td>0.467828</td>\n",
       "      <td>0.780894</td>\n",
       "      <td>0.348645</td>\n",
       "      <td>1.000000</td>\n",
       "      <td>0.445899</td>\n",
       "      <td>0.751296</td>\n",
       "      <td>0.780415</td>\n",
       "      <td>0.681648</td>\n",
       "      <td>0.866505</td>\n",
       "      <td>0.006197</td>\n",
       "      <td>0.041079</td>\n",
       "      <td>0.141412</td>\n",
       "    </tr>\n",
       "    <tr>\n",
       "      <th>JV_forward_scan_FF</th>\n",
       "      <td>0.347787</td>\n",
       "      <td>0.429541</td>\n",
       "      <td>0.711251</td>\n",
       "      <td>0.641601</td>\n",
       "      <td>0.364296</td>\n",
       "      <td>0.445899</td>\n",
       "      <td>1.000000</td>\n",
       "      <td>0.806483</td>\n",
       "      <td>0.652044</td>\n",
       "      <td>0.672704</td>\n",
       "      <td>0.301646</td>\n",
       "      <td>0.034653</td>\n",
       "      <td>0.171860</td>\n",
       "      <td>0.166843</td>\n",
       "    </tr>\n",
       "    <tr>\n",
       "      <th>JV_forward_scan_PCE</th>\n",
       "      <td>0.523787</td>\n",
       "      <td>0.743956</td>\n",
       "      <td>0.686057</td>\n",
       "      <td>0.934010</td>\n",
       "      <td>0.520021</td>\n",
       "      <td>0.751296</td>\n",
       "      <td>0.806483</td>\n",
       "      <td>1.000000</td>\n",
       "      <td>0.942241</td>\n",
       "      <td>0.955613</td>\n",
       "      <td>0.746553</td>\n",
       "      <td>0.048374</td>\n",
       "      <td>0.152940</td>\n",
       "      <td>0.201672</td>\n",
       "    </tr>\n",
       "    <tr>\n",
       "      <th>JV_default_PCE</th>\n",
       "      <td>0.604563</td>\n",
       "      <td>0.798684</td>\n",
       "      <td>0.749528</td>\n",
       "      <td>0.986421</td>\n",
       "      <td>0.515718</td>\n",
       "      <td>0.780415</td>\n",
       "      <td>0.652044</td>\n",
       "      <td>0.942241</td>\n",
       "      <td>1.000000</td>\n",
       "      <td>0.999277</td>\n",
       "      <td>0.776107</td>\n",
       "      <td>0.001780</td>\n",
       "      <td>0.066967</td>\n",
       "      <td>0.070792</td>\n",
       "    </tr>\n",
       "    <tr>\n",
       "      <th>Stabilised_performance_PCE</th>\n",
       "      <td>0.315527</td>\n",
       "      <td>0.733751</td>\n",
       "      <td>0.622513</td>\n",
       "      <td>0.943011</td>\n",
       "      <td>0.481349</td>\n",
       "      <td>0.681648</td>\n",
       "      <td>0.672704</td>\n",
       "      <td>0.955613</td>\n",
       "      <td>0.999277</td>\n",
       "      <td>1.000000</td>\n",
       "      <td>0.801941</td>\n",
       "      <td>-0.062346</td>\n",
       "      <td>0.078782</td>\n",
       "      <td>0.094621</td>\n",
       "    </tr>\n",
       "    <tr>\n",
       "      <th>EQE_integrated_Jsc</th>\n",
       "      <td>0.055878</td>\n",
       "      <td>0.897878</td>\n",
       "      <td>0.364848</td>\n",
       "      <td>0.778689</td>\n",
       "      <td>0.181276</td>\n",
       "      <td>0.866505</td>\n",
       "      <td>0.301646</td>\n",
       "      <td>0.746553</td>\n",
       "      <td>0.776107</td>\n",
       "      <td>0.801941</td>\n",
       "      <td>1.000000</td>\n",
       "      <td>-0.006976</td>\n",
       "      <td>-0.011320</td>\n",
       "      <td>0.107881</td>\n",
       "    </tr>\n",
       "    <tr>\n",
       "      <th>Stability_time_total_exposure</th>\n",
       "      <td>0.030846</td>\n",
       "      <td>-0.009484</td>\n",
       "      <td>0.002138</td>\n",
       "      <td>0.002216</td>\n",
       "      <td>0.036842</td>\n",
       "      <td>0.006197</td>\n",
       "      <td>0.034653</td>\n",
       "      <td>0.048374</td>\n",
       "      <td>0.001780</td>\n",
       "      <td>-0.062346</td>\n",
       "      <td>-0.006976</td>\n",
       "      <td>1.000000</td>\n",
       "      <td>0.123684</td>\n",
       "      <td>0.692748</td>\n",
       "    </tr>\n",
       "    <tr>\n",
       "      <th>Stability_PCE_end_of_experiment</th>\n",
       "      <td>0.073272</td>\n",
       "      <td>-0.018700</td>\n",
       "      <td>0.058824</td>\n",
       "      <td>0.069722</td>\n",
       "      <td>0.133100</td>\n",
       "      <td>0.041079</td>\n",
       "      <td>0.171860</td>\n",
       "      <td>0.152940</td>\n",
       "      <td>0.066967</td>\n",
       "      <td>0.078782</td>\n",
       "      <td>-0.011320</td>\n",
       "      <td>0.123684</td>\n",
       "      <td>1.000000</td>\n",
       "      <td>0.320478</td>\n",
       "    </tr>\n",
       "    <tr>\n",
       "      <th>Stability_PCE_T80</th>\n",
       "      <td>0.069499</td>\n",
       "      <td>0.037140</td>\n",
       "      <td>0.061790</td>\n",
       "      <td>0.076513</td>\n",
       "      <td>0.141633</td>\n",
       "      <td>0.141412</td>\n",
       "      <td>0.166843</td>\n",
       "      <td>0.201672</td>\n",
       "      <td>0.070792</td>\n",
       "      <td>0.094621</td>\n",
       "      <td>0.107881</td>\n",
       "      <td>0.692748</td>\n",
       "      <td>0.320478</td>\n",
       "      <td>1.000000</td>\n",
       "    </tr>\n",
       "  </tbody>\n",
       "</table>\n",
       "</div>"
      ],
      "text/plain": [
       "                                 JV_reverse_scan_Voc  JV_reverse_scan_Jsc  \\\n",
       "JV_reverse_scan_Voc                         1.000000             0.396239   \n",
       "JV_reverse_scan_Jsc                         0.396239             1.000000   \n",
       "JV_reverse_scan_FF                          0.526231             0.480227   \n",
       "JV_reverse_scan_PCE                         0.601405             0.792943   \n",
       "JV_forward_scan_Voc                         0.757450             0.292183   \n",
       "JV_forward_scan_Jsc                         0.359474             0.947330   \n",
       "JV_forward_scan_FF                          0.347787             0.429541   \n",
       "JV_forward_scan_PCE                         0.523787             0.743956   \n",
       "JV_default_PCE                              0.604563             0.798684   \n",
       "Stabilised_performance_PCE                  0.315527             0.733751   \n",
       "EQE_integrated_Jsc                          0.055878             0.897878   \n",
       "Stability_time_total_exposure               0.030846            -0.009484   \n",
       "Stability_PCE_end_of_experiment             0.073272            -0.018700   \n",
       "Stability_PCE_T80                           0.069499             0.037140   \n",
       "\n",
       "                                 JV_reverse_scan_FF  JV_reverse_scan_PCE  \\\n",
       "JV_reverse_scan_Voc                        0.526231             0.601405   \n",
       "JV_reverse_scan_Jsc                        0.480227             0.792943   \n",
       "JV_reverse_scan_FF                         1.000000             0.744813   \n",
       "JV_reverse_scan_PCE                        0.744813             1.000000   \n",
       "JV_forward_scan_Voc                        0.376119             0.481247   \n",
       "JV_forward_scan_Jsc                        0.467828             0.780894   \n",
       "JV_forward_scan_FF                         0.711251             0.641601   \n",
       "JV_forward_scan_PCE                        0.686057             0.934010   \n",
       "JV_default_PCE                             0.749528             0.986421   \n",
       "Stabilised_performance_PCE                 0.622513             0.943011   \n",
       "EQE_integrated_Jsc                         0.364848             0.778689   \n",
       "Stability_time_total_exposure              0.002138             0.002216   \n",
       "Stability_PCE_end_of_experiment            0.058824             0.069722   \n",
       "Stability_PCE_T80                          0.061790             0.076513   \n",
       "\n",
       "                                 JV_forward_scan_Voc  JV_forward_scan_Jsc  \\\n",
       "JV_reverse_scan_Voc                         0.757450             0.359474   \n",
       "JV_reverse_scan_Jsc                         0.292183             0.947330   \n",
       "JV_reverse_scan_FF                          0.376119             0.467828   \n",
       "JV_reverse_scan_PCE                         0.481247             0.780894   \n",
       "JV_forward_scan_Voc                         1.000000             0.348645   \n",
       "JV_forward_scan_Jsc                         0.348645             1.000000   \n",
       "JV_forward_scan_FF                          0.364296             0.445899   \n",
       "JV_forward_scan_PCE                         0.520021             0.751296   \n",
       "JV_default_PCE                              0.515718             0.780415   \n",
       "Stabilised_performance_PCE                  0.481349             0.681648   \n",
       "EQE_integrated_Jsc                          0.181276             0.866505   \n",
       "Stability_time_total_exposure               0.036842             0.006197   \n",
       "Stability_PCE_end_of_experiment             0.133100             0.041079   \n",
       "Stability_PCE_T80                           0.141633             0.141412   \n",
       "\n",
       "                                 JV_forward_scan_FF  JV_forward_scan_PCE  \\\n",
       "JV_reverse_scan_Voc                        0.347787             0.523787   \n",
       "JV_reverse_scan_Jsc                        0.429541             0.743956   \n",
       "JV_reverse_scan_FF                         0.711251             0.686057   \n",
       "JV_reverse_scan_PCE                        0.641601             0.934010   \n",
       "JV_forward_scan_Voc                        0.364296             0.520021   \n",
       "JV_forward_scan_Jsc                        0.445899             0.751296   \n",
       "JV_forward_scan_FF                         1.000000             0.806483   \n",
       "JV_forward_scan_PCE                        0.806483             1.000000   \n",
       "JV_default_PCE                             0.652044             0.942241   \n",
       "Stabilised_performance_PCE                 0.672704             0.955613   \n",
       "EQE_integrated_Jsc                         0.301646             0.746553   \n",
       "Stability_time_total_exposure              0.034653             0.048374   \n",
       "Stability_PCE_end_of_experiment            0.171860             0.152940   \n",
       "Stability_PCE_T80                          0.166843             0.201672   \n",
       "\n",
       "                                 JV_default_PCE  Stabilised_performance_PCE  \\\n",
       "JV_reverse_scan_Voc                    0.604563                    0.315527   \n",
       "JV_reverse_scan_Jsc                    0.798684                    0.733751   \n",
       "JV_reverse_scan_FF                     0.749528                    0.622513   \n",
       "JV_reverse_scan_PCE                    0.986421                    0.943011   \n",
       "JV_forward_scan_Voc                    0.515718                    0.481349   \n",
       "JV_forward_scan_Jsc                    0.780415                    0.681648   \n",
       "JV_forward_scan_FF                     0.652044                    0.672704   \n",
       "JV_forward_scan_PCE                    0.942241                    0.955613   \n",
       "JV_default_PCE                         1.000000                    0.999277   \n",
       "Stabilised_performance_PCE             0.999277                    1.000000   \n",
       "EQE_integrated_Jsc                     0.776107                    0.801941   \n",
       "Stability_time_total_exposure          0.001780                   -0.062346   \n",
       "Stability_PCE_end_of_experiment        0.066967                    0.078782   \n",
       "Stability_PCE_T80                      0.070792                    0.094621   \n",
       "\n",
       "                                 EQE_integrated_Jsc  \\\n",
       "JV_reverse_scan_Voc                        0.055878   \n",
       "JV_reverse_scan_Jsc                        0.897878   \n",
       "JV_reverse_scan_FF                         0.364848   \n",
       "JV_reverse_scan_PCE                        0.778689   \n",
       "JV_forward_scan_Voc                        0.181276   \n",
       "JV_forward_scan_Jsc                        0.866505   \n",
       "JV_forward_scan_FF                         0.301646   \n",
       "JV_forward_scan_PCE                        0.746553   \n",
       "JV_default_PCE                             0.776107   \n",
       "Stabilised_performance_PCE                 0.801941   \n",
       "EQE_integrated_Jsc                         1.000000   \n",
       "Stability_time_total_exposure             -0.006976   \n",
       "Stability_PCE_end_of_experiment           -0.011320   \n",
       "Stability_PCE_T80                          0.107881   \n",
       "\n",
       "                                 Stability_time_total_exposure  \\\n",
       "JV_reverse_scan_Voc                                   0.030846   \n",
       "JV_reverse_scan_Jsc                                  -0.009484   \n",
       "JV_reverse_scan_FF                                    0.002138   \n",
       "JV_reverse_scan_PCE                                   0.002216   \n",
       "JV_forward_scan_Voc                                   0.036842   \n",
       "JV_forward_scan_Jsc                                   0.006197   \n",
       "JV_forward_scan_FF                                    0.034653   \n",
       "JV_forward_scan_PCE                                   0.048374   \n",
       "JV_default_PCE                                        0.001780   \n",
       "Stabilised_performance_PCE                           -0.062346   \n",
       "EQE_integrated_Jsc                                   -0.006976   \n",
       "Stability_time_total_exposure                         1.000000   \n",
       "Stability_PCE_end_of_experiment                       0.123684   \n",
       "Stability_PCE_T80                                     0.692748   \n",
       "\n",
       "                                 Stability_PCE_end_of_experiment  \\\n",
       "JV_reverse_scan_Voc                                     0.073272   \n",
       "JV_reverse_scan_Jsc                                    -0.018700   \n",
       "JV_reverse_scan_FF                                      0.058824   \n",
       "JV_reverse_scan_PCE                                     0.069722   \n",
       "JV_forward_scan_Voc                                     0.133100   \n",
       "JV_forward_scan_Jsc                                     0.041079   \n",
       "JV_forward_scan_FF                                      0.171860   \n",
       "JV_forward_scan_PCE                                     0.152940   \n",
       "JV_default_PCE                                          0.066967   \n",
       "Stabilised_performance_PCE                              0.078782   \n",
       "EQE_integrated_Jsc                                     -0.011320   \n",
       "Stability_time_total_exposure                           0.123684   \n",
       "Stability_PCE_end_of_experiment                         1.000000   \n",
       "Stability_PCE_T80                                       0.320478   \n",
       "\n",
       "                                 Stability_PCE_T80  \n",
       "JV_reverse_scan_Voc                       0.069499  \n",
       "JV_reverse_scan_Jsc                       0.037140  \n",
       "JV_reverse_scan_FF                        0.061790  \n",
       "JV_reverse_scan_PCE                       0.076513  \n",
       "JV_forward_scan_Voc                       0.141633  \n",
       "JV_forward_scan_Jsc                       0.141412  \n",
       "JV_forward_scan_FF                        0.166843  \n",
       "JV_forward_scan_PCE                       0.201672  \n",
       "JV_default_PCE                            0.070792  \n",
       "Stabilised_performance_PCE                0.094621  \n",
       "EQE_integrated_Jsc                        0.107881  \n",
       "Stability_time_total_exposure             0.692748  \n",
       "Stability_PCE_end_of_experiment           0.320478  \n",
       "Stability_PCE_T80                         1.000000  "
      ]
     },
     "execution_count": 160,
     "metadata": {},
     "output_type": "execute_result"
    }
   ],
   "source": [
    "df_numeric = df.select_dtypes(include = 'number')\n",
    "df_numeric.corr()"
   ]
  },
  {
   "cell_type": "code",
   "execution_count": 162,
   "id": "6232b3de-fe4c-40d6-a00b-3e62cda853f0",
   "metadata": {},
   "outputs": [
    {
     "name": "stdout",
     "output_type": "stream",
     "text": [
      "imputed with mode\n"
     ]
    },
    {
     "name": "stderr",
     "output_type": "stream",
     "text": [
      "/var/folders/gt/c1f87xs918l8xhksttwhlqzm0000gn/T/ipykernel_59190/1732481889.py:3: FutureWarning: A value is trying to be set on a copy of a DataFrame or Series through chained assignment using an inplace method.\n",
      "The behavior will change in pandas 3.0. This inplace method will never work because the intermediate object on which we are setting values always behaves as a copy.\n",
      "\n",
      "For example, when doing 'df[col].method(value, inplace=True)', try using 'df.method({col: value}, inplace=True)' or df[col] = df[col].method(value) instead, to perform the operation inplace on the original object.\n",
      "\n",
      "\n",
      "  df['Perovskite_composition_long_form'].fillna(mode_val, inplace=True)\n"
     ]
    }
   ],
   "source": [
    "# imput with mode for categorical column.\n",
    "mode_val = df['Perovskite_composition_long_form'].mode()[0]\n",
    "df['Perovskite_composition_long_form'].fillna(mode_val, inplace=True)\n",
    "print(\"imputed with mode\")"
   ]
  },
  {
   "cell_type": "code",
   "execution_count": 164,
   "id": "96feb061-331f-4bde-9634-bc63a9acb2bb",
   "metadata": {},
   "outputs": [
    {
     "data": {
      "text/plain": [
       "Index(['JV_reverse_scan_Voc', 'JV_reverse_scan_Jsc', 'JV_reverse_scan_FF',\n",
       "       'JV_reverse_scan_PCE', 'JV_forward_scan_Voc', 'JV_forward_scan_Jsc',\n",
       "       'JV_forward_scan_FF', 'JV_forward_scan_PCE', 'JV_default_PCE',\n",
       "       'Stabilised_performance_PCE', 'EQE_integrated_Jsc',\n",
       "       'Stability_time_total_exposure', 'Stability_PCE_end_of_experiment',\n",
       "       'Stability_PCE_T80', 'Perovskite_composition_long_form'],\n",
       "      dtype='object')"
      ]
     },
     "execution_count": 164,
     "metadata": {},
     "output_type": "execute_result"
    }
   ],
   "source": [
    "df.columns"
   ]
  },
  {
   "cell_type": "code",
   "execution_count": 166,
   "id": "de0c5813-638a-4817-8522-b84c6d4b8e55",
   "metadata": {},
   "outputs": [
    {
     "name": "stdout",
     "output_type": "stream",
     "text": [
      "dropping null values is done\n"
     ]
    }
   ],
   "source": [
    "# dropping null values for Stability_PCE_T80\n",
    "df.dropna(subset = ['Stability_PCE_T80'], inplace = True)\n",
    "print(\"dropping null values is done\")"
   ]
  },
  {
   "cell_type": "code",
   "execution_count": 168,
   "id": "6b0f4e2c-a0a9-4226-9abc-9b9e9d957f25",
   "metadata": {},
   "outputs": [
    {
     "data": {
      "text/plain": [
       "JV_reverse_scan_Voc                  343\n",
       "JV_reverse_scan_Jsc                  335\n",
       "JV_reverse_scan_FF                   346\n",
       "JV_reverse_scan_PCE                  296\n",
       "JV_forward_scan_Voc                 1263\n",
       "JV_forward_scan_Jsc                 1261\n",
       "JV_forward_scan_FF                  1263\n",
       "JV_forward_scan_PCE                 1249\n",
       "JV_default_PCE                       264\n",
       "Stabilised_performance_PCE          1546\n",
       "EQE_integrated_Jsc                  1365\n",
       "Stability_time_total_exposure          0\n",
       "Stability_PCE_end_of_experiment       15\n",
       "Stability_PCE_T80                      0\n",
       "Perovskite_composition_long_form       0\n",
       "dtype: int64"
      ]
     },
     "execution_count": 168,
     "metadata": {},
     "output_type": "execute_result"
    }
   ],
   "source": [
    "df.isnull().sum()"
   ]
  },
  {
   "cell_type": "code",
   "execution_count": 170,
   "id": "2f7ea358-24cd-4d92-8584-0edf9d657672",
   "metadata": {},
   "outputs": [
    {
     "name": "stdout",
     "output_type": "stream",
     "text": [
      "<class 'pandas.core.frame.DataFrame'>\n",
      "Index: 1839 entries, 25 to 43397\n",
      "Data columns (total 15 columns):\n",
      " #   Column                            Non-Null Count  Dtype  \n",
      "---  ------                            --------------  -----  \n",
      " 0   JV_reverse_scan_Voc               1496 non-null   float64\n",
      " 1   JV_reverse_scan_Jsc               1504 non-null   float64\n",
      " 2   JV_reverse_scan_FF                1493 non-null   float64\n",
      " 3   JV_reverse_scan_PCE               1543 non-null   float64\n",
      " 4   JV_forward_scan_Voc               576 non-null    float64\n",
      " 5   JV_forward_scan_Jsc               578 non-null    float64\n",
      " 6   JV_forward_scan_FF                576 non-null    float64\n",
      " 7   JV_forward_scan_PCE               590 non-null    float64\n",
      " 8   JV_default_PCE                    1575 non-null   float64\n",
      " 9   Stabilised_performance_PCE        293 non-null    float64\n",
      " 10  EQE_integrated_Jsc                474 non-null    float64\n",
      " 11  Stability_time_total_exposure     1839 non-null   float64\n",
      " 12  Stability_PCE_end_of_experiment   1824 non-null   float64\n",
      " 13  Stability_PCE_T80                 1839 non-null   float64\n",
      " 14  Perovskite_composition_long_form  1839 non-null   object \n",
      "dtypes: float64(14), object(1)\n",
      "memory usage: 229.9+ KB\n"
     ]
    }
   ],
   "source": [
    "df.info()"
   ]
  },
  {
   "cell_type": "code",
   "execution_count": 172,
   "id": "1b925929-30f3-4305-8765-ffe8161dd573",
   "metadata": {},
   "outputs": [],
   "source": [
    "df.drop(['EQE_integrated_Jsc','JV_forward_scan_PCE','JV_reverse_scan_PCE', 'Stabilised_performance_PCE']  , axis = 1, inplace = True)"
   ]
  },
  {
   "cell_type": "code",
   "execution_count": 174,
   "id": "2de3b5cc-c9c9-47ef-a4f3-5a3e25294fbf",
   "metadata": {},
   "outputs": [
    {
     "name": "stdout",
     "output_type": "stream",
     "text": [
      "<class 'pandas.core.frame.DataFrame'>\n",
      "Index: 1839 entries, 25 to 43397\n",
      "Data columns (total 11 columns):\n",
      " #   Column                            Non-Null Count  Dtype  \n",
      "---  ------                            --------------  -----  \n",
      " 0   JV_reverse_scan_Voc               1496 non-null   float64\n",
      " 1   JV_reverse_scan_Jsc               1504 non-null   float64\n",
      " 2   JV_reverse_scan_FF                1493 non-null   float64\n",
      " 3   JV_forward_scan_Voc               576 non-null    float64\n",
      " 4   JV_forward_scan_Jsc               578 non-null    float64\n",
      " 5   JV_forward_scan_FF                576 non-null    float64\n",
      " 6   JV_default_PCE                    1575 non-null   float64\n",
      " 7   Stability_time_total_exposure     1839 non-null   float64\n",
      " 8   Stability_PCE_end_of_experiment   1824 non-null   float64\n",
      " 9   Stability_PCE_T80                 1839 non-null   float64\n",
      " 10  Perovskite_composition_long_form  1839 non-null   object \n",
      "dtypes: float64(10), object(1)\n",
      "memory usage: 172.4+ KB\n"
     ]
    }
   ],
   "source": [
    "df.info()"
   ]
  },
  {
   "cell_type": "markdown",
   "id": "491d93c0-0019-465e-ae2d-e7786c3882b0",
   "metadata": {},
   "source": [
    "### following from Relevant features2"
   ]
  },
  {
   "cell_type": "code",
   "execution_count": 178,
   "id": "5ae08f13-d32d-48fb-a724-d6faed1508a8",
   "metadata": {},
   "outputs": [],
   "source": [
    "df_numeric = df.select_dtypes(include = ['number'])\n"
   ]
  },
  {
   "cell_type": "code",
   "execution_count": 180,
   "id": "343a59a5-5650-46cf-9805-97f30b15aab4",
   "metadata": {},
   "outputs": [],
   "source": [
    "# Function to remove outliers using IQR\n",
    "\n",
    "def remove_outliers(df, column):\n",
    "    Q1 = df[column].quantile(0.25)  # First quartile (25%)\n",
    "    Q3 = df[column].quantile(0.75)  # Third quartile (75%)\n",
    "    IQR = Q3 - Q1  # Interquartile range\n",
    "\n",
    "    # Define outlier bounds\n",
    "    lower_bound = Q1 - 1.5 * IQR\n",
    "    upper_bound = Q3 + 1.5 * IQR\n",
    "\n",
    "    # Filter out the outliers\n",
    "    return df[(df[column] >= lower_bound) & (df[column] <= upper_bound)]"
   ]
  },
  {
   "cell_type": "code",
   "execution_count": 182,
   "id": "78aac273-e3bd-43da-bbfa-5aad504de772",
   "metadata": {},
   "outputs": [
    {
     "name": "stdout",
     "output_type": "stream",
     "text": [
      "outliers removed\n"
     ]
    }
   ],
   "source": [
    "# Remove outliers for each numeric column\n",
    "for column in ['Stability_PCE_T80']:\n",
    "    df = remove_outliers(df, column)\n",
    "print(\"outliers removed\")"
   ]
  },
  {
   "cell_type": "code",
   "execution_count": 184,
   "id": "f05d1732-1acf-4148-944e-9f343dbe3619",
   "metadata": {},
   "outputs": [
    {
     "name": "stdout",
     "output_type": "stream",
     "text": [
      "<class 'pandas.core.frame.DataFrame'>\n",
      "Index: 1720 entries, 25 to 43397\n",
      "Data columns (total 11 columns):\n",
      " #   Column                            Non-Null Count  Dtype  \n",
      "---  ------                            --------------  -----  \n",
      " 0   JV_reverse_scan_Voc               1395 non-null   float64\n",
      " 1   JV_reverse_scan_Jsc               1402 non-null   float64\n",
      " 2   JV_reverse_scan_FF                1391 non-null   float64\n",
      " 3   JV_forward_scan_Voc               545 non-null    float64\n",
      " 4   JV_forward_scan_Jsc               547 non-null    float64\n",
      " 5   JV_forward_scan_FF                545 non-null    float64\n",
      " 6   JV_default_PCE                    1470 non-null   float64\n",
      " 7   Stability_time_total_exposure     1720 non-null   float64\n",
      " 8   Stability_PCE_end_of_experiment   1705 non-null   float64\n",
      " 9   Stability_PCE_T80                 1720 non-null   float64\n",
      " 10  Perovskite_composition_long_form  1720 non-null   object \n",
      "dtypes: float64(10), object(1)\n",
      "memory usage: 161.2+ KB\n"
     ]
    }
   ],
   "source": [
    "df.info()"
   ]
  },
  {
   "cell_type": "code",
   "execution_count": 186,
   "id": "487d243f-1276-4111-bbf4-9aefda7980bb",
   "metadata": {},
   "outputs": [
    {
     "name": "stdout",
     "output_type": "stream",
     "text": [
      "Perovskite_composition_long_form\n",
      "MAPbI3                             970\n",
      "FA0.85MA0.15PbBr0.45I2.55           79\n",
      "Cs0.05FA0.79MA0.16PbBr0.51I2.49     50\n",
      "CsPbBrI2                            43\n",
      "FAPbI3                              29\n",
      "                                  ... \n",
      "Cs0.05FA0.82MA0.13PbBr0.45I2.55      1\n",
      "Cs0.05FA0.78MA0.13PbBr0.45I2.55      1\n",
      "Ca0.1MA0.9PbBr0.3I2.7                1\n",
      "(PEA)2MA3Pb4I13                      1\n",
      "(PEA)BAFA3Sn4I13                     1\n",
      "Name: count, Length: 264, dtype: int64\n"
     ]
    }
   ],
   "source": [
    "value_counts = df['Perovskite_composition_long_form'].value_counts()\n",
    "print(value_counts)"
   ]
  },
  {
   "cell_type": "code",
   "execution_count": 188,
   "id": "2e1f9133-7c24-4097-8b71-59a7666b1e30",
   "metadata": {},
   "outputs": [
    {
     "name": "stdout",
     "output_type": "stream",
     "text": [
      "filtering completed\n"
     ]
    }
   ],
   "source": [
    "# Identify values that occur at least 5 times\n",
    "valid_values = value_counts[value_counts >= 5].index\n",
    "\n",
    "# Filter the DataFrame to keep only rows with these values\n",
    "df_filtered = df[df['Perovskite_composition_long_form'].isin(valid_values)]\n",
    "print(\"filtering completed\")"
   ]
  },
  {
   "cell_type": "code",
   "execution_count": 190,
   "id": "7ae1243c-7ca1-4dab-8d68-1e213fefb3a1",
   "metadata": {},
   "outputs": [
    {
     "data": {
      "text/plain": [
       "(1356, 11)"
      ]
     },
     "execution_count": 190,
     "metadata": {},
     "output_type": "execute_result"
    }
   ],
   "source": [
    "df = df_filtered\n",
    "df.shape"
   ]
  },
  {
   "cell_type": "code",
   "execution_count": 192,
   "id": "0cfbe47f-2134-4dcd-9010-aa53238e54e4",
   "metadata": {},
   "outputs": [
    {
     "name": "stdout",
     "output_type": "stream",
     "text": [
      "Perovskite_composition_long_form\n",
      "MAPbI3                                 970\n",
      "FA0.85MA0.15PbBr0.45I2.55               79\n",
      "Cs0.05FA0.79MA0.16PbBr0.51I2.49         50\n",
      "CsPbBrI2                                43\n",
      "FAPbI3                                  29\n",
      "MAPb1.0I3                               23\n",
      "Cs0.05FA0.81MA0.14PbBr0.45I2.55         22\n",
      "CsPbI3                                  19\n",
      "FASnI3                                  14\n",
      "MAPb0.5Sn0.5I3                          13\n",
      "FA0.83MA0.17PbBr0.51I2.49               11\n",
      "Cs0.05FA0.7885MA0.1615PbBr0.51I2.49      8\n",
      "FA0.9MA0.1PbBr0.3I2.7                    7\n",
      "FA0.85MA0.15PbI3                         7\n",
      "Cs0.017FA0.83MA0.15PbBr0.51I2.49         7\n",
      "MAPbBr3                                  6\n",
      "FA0.83MA0.17PbBr0.0I2.51                 6\n",
      "Cs0.17FA0.83PbBr1.2I1.8                  6\n",
      "Cs0.05FA0.79MA0.16PbBr0.39I2.61          6\n",
      "Cs0.05FA0.77MA0.16PbBr0.48I2.52          5\n",
      "FA0.83MA0.17PbBr0.5I2.5                  5\n",
      "Cs0.1FA0.9PbI3                           5\n",
      "Cs0.15FA0.85PbI3                         5\n",
      "FAMAPbI3                                 5\n",
      "FA0.3MA0.7PbI3                           5\n",
      "Name: count, dtype: int64\n"
     ]
    },
    {
     "data": {
      "text/plain": [
       "(25,)"
      ]
     },
     "execution_count": 192,
     "metadata": {},
     "output_type": "execute_result"
    }
   ],
   "source": [
    "value_counts = df['Perovskite_composition_long_form'].value_counts()\n",
    "print(value_counts)\n",
    "value_counts.shape"
   ]
  },
  {
   "cell_type": "code",
   "execution_count": 196,
   "id": "b78e4fff-6bf8-4a57-a22c-62cb2bc30a15",
   "metadata": {},
   "outputs": [],
   "source": [
    "import numpy as np\n",
    "\n",
    "def replace_outliers_with_null(df, column):\n",
    "    Q1 = df[column].quantile(0.25)  # First quartile (25%)\n",
    "    Q3 = df[column].quantile(0.75)  # Third quartile (75%)\n",
    "    IQR = Q3 - Q1  # Interquartile range\n",
    "\n",
    "    # Define outlier bounds\n",
    "    lower_bound = Q1 - 1.5 * IQR\n",
    "    upper_bound = Q3 + 1.5 * IQR\n",
    "\n",
    "    # Replace outliers with NaN\n",
    "    df[column] = df[column].apply(lambda x: np.nan if x < lower_bound or x > upper_bound else x)\n",
    "    return df"
   ]
  },
  {
   "cell_type": "code",
   "execution_count": 198,
   "id": "9be40a3d-2c4e-4518-bb3c-52c0fb3ef120",
   "metadata": {},
   "outputs": [
    {
     "name": "stdout",
     "output_type": "stream",
     "text": [
      "outliers replaced\n"
     ]
    }
   ],
   "source": [
    "for column in ['JV_reverse_scan_Voc', 'JV_reverse_scan_Jsc', 'JV_reverse_scan_FF',\n",
    "       'JV_forward_scan_Voc', 'JV_forward_scan_Jsc',\n",
    "       'JV_forward_scan_FF', 'JV_default_PCE','Stability_PCE_end_of_experiment', 'Stability_time_total_exposure'] :  \n",
    "    df = replace_outliers_with_null(df, column)\n",
    "print(\"outliers replaced\")"
   ]
  },
  {
   "cell_type": "code",
   "execution_count": 200,
   "id": "0769bbe5-b043-4677-b227-207e0f177eeb",
   "metadata": {},
   "outputs": [
    {
     "data": {
      "text/plain": [
       "JV_reverse_scan_Voc                 295\n",
       "JV_reverse_scan_Jsc                 300\n",
       "JV_reverse_scan_FF                  309\n",
       "JV_forward_scan_Voc                 970\n",
       "JV_forward_scan_Jsc                 970\n",
       "JV_forward_scan_FF                  963\n",
       "JV_default_PCE                      216\n",
       "Stability_time_total_exposure        44\n",
       "Stability_PCE_end_of_experiment      12\n",
       "Stability_PCE_T80                     0\n",
       "Perovskite_composition_long_form      0\n",
       "dtype: int64"
      ]
     },
     "execution_count": 200,
     "metadata": {},
     "output_type": "execute_result"
    }
   ],
   "source": [
    "df.isnull().sum()\n",
    "#df.shape"
   ]
  },
  {
   "cell_type": "code",
   "execution_count": 202,
   "id": "8f7d57df-7851-4f61-a259-300a5681fa99",
   "metadata": {},
   "outputs": [
    {
     "name": "stdout",
     "output_type": "stream",
     "text": [
      "step completed\n"
     ]
    }
   ],
   "source": [
    "# Convert categorical variables (if any) to 'category' dtype\n",
    "df['Perovskite_composition_long_form'] = df['Perovskite_composition_long_form'].astype('category')\n",
    "# Ensure the index is reset to avoid issues\n",
    "df = df.reset_index(drop=True)\n",
    "print(\"step completed\")"
   ]
  },
  {
   "cell_type": "code",
   "execution_count": 204,
   "id": "5612e80d-447b-4d7a-8613-d03c6dccbaf8",
   "metadata": {},
   "outputs": [
    {
     "name": "stdout",
     "output_type": "stream",
     "text": [
      "set up done!\n"
     ]
    }
   ],
   "source": [
    "from miceforest import ImputationKernel\n",
    "df['Perovskite_composition_long_form'] = df['Perovskite_composition_long_form'].astype('category')\n",
    "df = df.reset_index(drop=True)\n",
    "\n",
    "mice_kernel = ImputationKernel(\n",
    "data = df,\n",
    "save_all_iterations_data = True,\n",
    "random_state = 2023\n",
    ")\n",
    "print(\"set up done!\")"
   ]
  },
  {
   "cell_type": "code",
   "execution_count": 206,
   "id": "289c66e8-92d7-4ab8-9bdd-65d561aae44d",
   "metadata": {},
   "outputs": [
    {
     "data": {
      "text/html": [
       "<div>\n",
       "<style scoped>\n",
       "    .dataframe tbody tr th:only-of-type {\n",
       "        vertical-align: middle;\n",
       "    }\n",
       "\n",
       "    .dataframe tbody tr th {\n",
       "        vertical-align: top;\n",
       "    }\n",
       "\n",
       "    .dataframe thead th {\n",
       "        text-align: right;\n",
       "    }\n",
       "</style>\n",
       "<table border=\"1\" class=\"dataframe\">\n",
       "  <thead>\n",
       "    <tr style=\"text-align: right;\">\n",
       "      <th></th>\n",
       "      <th>JV_reverse_scan_Voc</th>\n",
       "      <th>JV_reverse_scan_Jsc</th>\n",
       "      <th>JV_reverse_scan_FF</th>\n",
       "      <th>JV_forward_scan_Voc</th>\n",
       "      <th>JV_forward_scan_Jsc</th>\n",
       "      <th>JV_forward_scan_FF</th>\n",
       "      <th>JV_default_PCE</th>\n",
       "      <th>Stability_time_total_exposure</th>\n",
       "      <th>Stability_PCE_end_of_experiment</th>\n",
       "      <th>Stability_PCE_T80</th>\n",
       "      <th>Perovskite_composition_long_form</th>\n",
       "    </tr>\n",
       "  </thead>\n",
       "  <tbody>\n",
       "    <tr>\n",
       "      <th>0</th>\n",
       "      <td>1.06</td>\n",
       "      <td>19.20</td>\n",
       "      <td>0.654</td>\n",
       "      <td>1.01</td>\n",
       "      <td>19.21</td>\n",
       "      <td>0.483</td>\n",
       "      <td>13.30</td>\n",
       "      <td>480.0</td>\n",
       "      <td>61.0</td>\n",
       "      <td>220.0</td>\n",
       "      <td>MAPbI3</td>\n",
       "    </tr>\n",
       "    <tr>\n",
       "      <th>1</th>\n",
       "      <td>1.10</td>\n",
       "      <td>21.53</td>\n",
       "      <td>0.727</td>\n",
       "      <td>1.04</td>\n",
       "      <td>21.52</td>\n",
       "      <td>0.648</td>\n",
       "      <td>17.20</td>\n",
       "      <td>480.0</td>\n",
       "      <td>78.0</td>\n",
       "      <td>350.0</td>\n",
       "      <td>MAPbI3</td>\n",
       "    </tr>\n",
       "    <tr>\n",
       "      <th>2</th>\n",
       "      <td>1.06</td>\n",
       "      <td>19.40</td>\n",
       "      <td>0.734</td>\n",
       "      <td>1.05</td>\n",
       "      <td>19.56</td>\n",
       "      <td>0.699</td>\n",
       "      <td>15.10</td>\n",
       "      <td>500.0</td>\n",
       "      <td>74.0</td>\n",
       "      <td>450.0</td>\n",
       "      <td>MAPbI3</td>\n",
       "    </tr>\n",
       "    <tr>\n",
       "      <th>3</th>\n",
       "      <td>0.87</td>\n",
       "      <td>20.10</td>\n",
       "      <td>0.870</td>\n",
       "      <td>0.86</td>\n",
       "      <td>18.60</td>\n",
       "      <td>0.717</td>\n",
       "      <td>5.47</td>\n",
       "      <td>7.2</td>\n",
       "      <td>3.0</td>\n",
       "      <td>0.4</td>\n",
       "      <td>MAPbI3</td>\n",
       "    </tr>\n",
       "    <tr>\n",
       "      <th>4</th>\n",
       "      <td>1.03</td>\n",
       "      <td>20.84</td>\n",
       "      <td>0.740</td>\n",
       "      <td>1.02</td>\n",
       "      <td>20.68</td>\n",
       "      <td>0.748</td>\n",
       "      <td>15.92</td>\n",
       "      <td>1008.0</td>\n",
       "      <td>71.6</td>\n",
       "      <td>840.0</td>\n",
       "      <td>MAPbI3</td>\n",
       "    </tr>\n",
       "  </tbody>\n",
       "</table>\n",
       "</div>"
      ],
      "text/plain": [
       "   JV_reverse_scan_Voc  JV_reverse_scan_Jsc  JV_reverse_scan_FF  \\\n",
       "0                 1.06                19.20               0.654   \n",
       "1                 1.10                21.53               0.727   \n",
       "2                 1.06                19.40               0.734   \n",
       "3                 0.87                20.10               0.870   \n",
       "4                 1.03                20.84               0.740   \n",
       "\n",
       "   JV_forward_scan_Voc  JV_forward_scan_Jsc  JV_forward_scan_FF  \\\n",
       "0                 1.01                19.21               0.483   \n",
       "1                 1.04                21.52               0.648   \n",
       "2                 1.05                19.56               0.699   \n",
       "3                 0.86                18.60               0.717   \n",
       "4                 1.02                20.68               0.748   \n",
       "\n",
       "   JV_default_PCE  Stability_time_total_exposure  \\\n",
       "0           13.30                          480.0   \n",
       "1           17.20                          480.0   \n",
       "2           15.10                          500.0   \n",
       "3            5.47                            7.2   \n",
       "4           15.92                         1008.0   \n",
       "\n",
       "   Stability_PCE_end_of_experiment  Stability_PCE_T80  \\\n",
       "0                             61.0              220.0   \n",
       "1                             78.0              350.0   \n",
       "2                             74.0              450.0   \n",
       "3                              3.0                0.4   \n",
       "4                             71.6              840.0   \n",
       "\n",
       "  Perovskite_composition_long_form  \n",
       "0                           MAPbI3  \n",
       "1                           MAPbI3  \n",
       "2                           MAPbI3  \n",
       "3                           MAPbI3  \n",
       "4                           MAPbI3  "
      ]
     },
     "execution_count": 206,
     "metadata": {},
     "output_type": "execute_result"
    }
   ],
   "source": [
    "mice_kernel.mice(2)\n",
    "mice_imputation = mice_kernel.complete_data()\n",
    "mice_imputation.head()"
   ]
  },
  {
   "cell_type": "code",
   "execution_count": 208,
   "id": "659fc9ff-c2cb-4283-b40a-a9172b15739f",
   "metadata": {},
   "outputs": [
    {
     "data": {
      "text/plain": [
       "JV_reverse_scan_Voc                 0\n",
       "JV_reverse_scan_Jsc                 0\n",
       "JV_reverse_scan_FF                  0\n",
       "JV_forward_scan_Voc                 0\n",
       "JV_forward_scan_Jsc                 0\n",
       "JV_forward_scan_FF                  0\n",
       "JV_default_PCE                      0\n",
       "Stability_time_total_exposure       0\n",
       "Stability_PCE_end_of_experiment     0\n",
       "Stability_PCE_T80                   0\n",
       "Perovskite_composition_long_form    0\n",
       "dtype: int64"
      ]
     },
     "execution_count": 208,
     "metadata": {},
     "output_type": "execute_result"
    }
   ],
   "source": [
    "mice_imputation.isnull().sum()"
   ]
  },
  {
   "cell_type": "code",
   "execution_count": 210,
   "id": "215d0ad8-a8dd-4924-b70f-095acff77880",
   "metadata": {},
   "outputs": [
    {
     "name": "stdout",
     "output_type": "stream",
     "text": [
      "Saved to excel sheet\n"
     ]
    }
   ],
   "source": [
    "mice_imputation.to_excel('Cleaned_dataset_stability.xlsx', index = False)\n",
    "print(\"Saved to excel sheet\")"
   ]
  },
  {
   "cell_type": "code",
   "execution_count": null,
   "id": "0cbe63db-80f4-403e-98f3-9bf4396067ad",
   "metadata": {},
   "outputs": [],
   "source": []
  }
 ],
 "metadata": {
  "kernelspec": {
   "display_name": "Python 3 (ipykernel)",
   "language": "python",
   "name": "python3"
  },
  "language_info": {
   "codemirror_mode": {
    "name": "ipython",
    "version": 3
   },
   "file_extension": ".py",
   "mimetype": "text/x-python",
   "name": "python",
   "nbconvert_exporter": "python",
   "pygments_lexer": "ipython3",
   "version": "3.12.7"
  }
 },
 "nbformat": 4,
 "nbformat_minor": 5
}
