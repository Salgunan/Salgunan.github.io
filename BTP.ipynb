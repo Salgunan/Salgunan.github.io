{
 "cells": [
  {
   "cell_type": "code",
   "execution_count": 1,
   "id": "ba6d8c3c-9a3d-445b-8d85-5acf6b4b6fa1",
   "metadata": {},
   "outputs": [],
   "source": [
    "import pandas as pd"
   ]
  },
  {
   "cell_type": "code",
   "execution_count": 3,
   "id": "8a0d3093-a1a3-41b1-82d0-507740793f2a",
   "metadata": {},
   "outputs": [
    {
     "name": "stderr",
     "output_type": "stream",
     "text": [
      "/var/folders/gt/c1f87xs918l8xhksttwhlqzm0000gn/T/ipykernel_50663/2785626306.py:10: DtypeWarning: Columns (0,1,3,8,10,14,17,18,19,22,23,27,29,31,32,34,35,36,40,44,45,46,48,51,54,62,64,65,66,67,68,69,70,71,73,74,84,85,86,89,90,91,93,98,99,100,105,108,113,115,118,122,123,124,125,130,134,138,142,143,144,146,149,152,163,166,167,171,172,173,175,178,181,191,192,193,194,196,202,203,206,209,212,222,224,225,227,233,234,237,240,243,253,255,259,260,261,263,267,269,270,271,272,273,277,278,279,304,305,306,307,314,315,317,321,322,325,326,330,331,332,335,336,338,341,342,347,348,350,352,355,365,369,370,371,373,374,376,377,380,383,384,387,390,393,399,401,403,404,405,406,407,408,409) have mixed types. Specify dtype option on import or set low_memory=False.\n",
      "  data = pd.read_csv(input_file, encoding='ISO-8859-1')  # Use ISO-8859-1 or latin1\n"
     ]
    },
    {
     "name": "stdout",
     "output_type": "stream",
     "text": [
      "Step 1: Loaded the CSV file.\n"
     ]
    }
   ],
   "source": [
    "# File paths\n",
    "input_file = 'Perovskite_database_content_all_data (version 1).csv'\n",
    "output_file = 'Cleaned_Perovskite_Data.xlsx'\n",
    "\n",
    "# Step 1: Load the CSV file with a different encoding\n",
    "try:\n",
    "    data = pd.read_csv(input_file, encoding='utf-8')  # Try utf-8 encoding first\n",
    "except UnicodeDecodeError:\n",
    "    # If utf-8 fails, try an alternative encoding\n",
    "    data = pd.read_csv(input_file, encoding='ISO-8859-1')  # Use ISO-8859-1 or latin1\n",
    "    \n",
    "print(\"Step 1: Loaded the CSV file.\")\n"
   ]
  },
  {
   "cell_type": "code",
   "execution_count": 15,
   "id": "4f7d5ab1-6eeb-4ea3-8a1f-62525beefa87",
   "metadata": {},
   "outputs": [
    {
     "name": "stdout",
     "output_type": "stream",
     "text": [
      "The history saving thread hit an unexpected error (OperationalError('attempt to write a readonly database')).History will not be written to the database.\n"
     ]
    },
    {
     "data": {
      "text/plain": [
       "(43398, 410)"
      ]
     },
     "execution_count": 15,
     "metadata": {},
     "output_type": "execute_result"
    }
   ],
   "source": [
    "data.shape"
   ]
  },
  {
   "cell_type": "code",
   "execution_count": 5,
   "id": "883f22a0-b263-417f-8345-989022df9b16",
   "metadata": {},
   "outputs": [
    {
     "name": "stdout",
     "output_type": "stream",
     "text": [
      "Step 2 completed\n"
     ]
    }
   ],
   "source": [
    "# Step 2: Keep only numeric columns and the specified string column\n",
    "numeric_data = data.select_dtypes(include=[float, int])  # Select only numeric columns\n",
    "if 'Perovskite_composition_long_form' in data.columns:\n",
    "    numeric_data['Perovskite_composition_long_form'] = data['Perovskite_composition_long_form']\n",
    "\n",
    "print(\"Step 2 completed\")"
   ]
  },
  {
   "cell_type": "code",
   "execution_count": 7,
   "id": "711ba7e3-05f3-44d0-a11a-732fe6f4e4ea",
   "metadata": {
    "scrolled": true
   },
   "outputs": [
    {
     "name": "stdout",
     "output_type": "stream",
     "text": [
      "Numeric columns:\n",
      "Index(['Cell_area_total', 'Cell_number_of_cells_per_substrate',\n",
      "       'Cell_semitransparent_AVT', 'Module_number_of_cells_in_module',\n",
      "       'Module_area_total', 'Module_area_effective', 'Substrate_area',\n",
      "       'Perovskite_deposition_number_of_deposition_steps',\n",
      "       'Perovskite_storage_relative_humidity', 'HTL_storage_relative_humidity',\n",
      "       'Add_lay_front_additives_compounds',\n",
      "       'Add_lay_front_additives_concentrations',\n",
      "       'Add_lay_front_deposition_synthesis_atmosphere_relative_humidity',\n",
      "       'Add_lay_front_surface_treatment_before_next_deposition_step',\n",
      "       'Add_lay_back_additives_compounds',\n",
      "       'Add_lay_back_additives_concentrations',\n",
      "       'Add_lay_back_deposition_synthesis_atmosphere_relative_humidity',\n",
      "       'Add_lay_back_surface_treatment_before_next_deposition_step',\n",
      "       'JV_average_over_n_number_of_cells', 'JV_light_intensity',\n",
      "       'JV_scan_speed', 'JV_scan_delay_time', 'JV_scan_integration_time',\n",
      "       'JV_scan_voltage_step', 'JV_preconditioning_time',\n",
      "       'JV_preconditioning_potential', 'JV_preconditioning_light_intensity',\n",
      "       'JV_reverse_scan_Voc', 'JV_reverse_scan_Jsc', 'JV_reverse_scan_FF',\n",
      "       'JV_reverse_scan_PCE', 'JV_reverse_scan_Vmp', 'JV_reverse_scan_Jmp',\n",
      "       'JV_reverse_scan_series_resistance', 'JV_reverse_scan_shunt_resistance',\n",
      "       'JV_forward_scan_Voc', 'JV_forward_scan_Jsc', 'JV_forward_scan_FF',\n",
      "       'JV_forward_scan_PCE', 'JV_forward_scan_Vmp', 'JV_forward_scan_Jmp',\n",
      "       'JV_forward_scan_series_resistance', 'JV_forward_scan_shunt_resistance',\n",
      "       'JV_default_PCE', 'JV_hysteresis_index',\n",
      "       'Stabilised_performance_procedure_metrics',\n",
      "       'Stabilised_performance_PCE', 'Stabilised_performance_Vmp',\n",
      "       'Stabilised_performance_Jmp', 'EQE_light_bias', 'EQE_integrated_Jsc',\n",
      "       'Stability_average_over_n_number_of_cells',\n",
      "       'Stability_temperature_ramp_speed', 'Stability_time_total_exposure',\n",
      "       'Stability_PCE_initial_value', 'Stability_PCE_end_of_experiment',\n",
      "       'Stability_PCE_T95', 'Stability_PCE_Ts95', 'Stability_PCE_T80',\n",
      "       'Stability_PCE_Ts80', 'Stability_PCE_Te80', 'Stability_PCE_Tse80',\n",
      "       'Stability_PCE_after_1000_h', 'Stability_lifetime_energy_yield',\n",
      "       'Stability_flexible_cell_bending_radius',\n",
      "       'Stability_flexible_cell_PCE_initial_value',\n",
      "       'Stability_flexible_cell_PCE_end_of_experiment',\n",
      "       'Outdoor_average_over_n_number_of_cells',\n",
      "       'Outdoor_installation_cardinal_direction',\n",
      "       'Outdoor_installation_number_of_solar_tracking_axis',\n",
      "       'Outdoor_potential_bias_passive_resistance',\n",
      "       'Outdoor_temperature_tmodule',\n",
      "       'Outdoor_periodic_JV_measurements_time_between_measurements',\n",
      "       'Outdoor_PCE_initial_value', 'Outdoor_PCE_end_of_experiment',\n",
      "       'Outdoor_PCE_T95', 'Outdoor_PCE_Ts95', 'Outdoor_PCE_T80',\n",
      "       'Outdoor_PCE_Ts80', 'Outdoor_PCE_Tse80', 'Outdoor_power_generated',\n",
      "       'Perovskite_composition_long_form'],\n",
      "      dtype='object')\n"
     ]
    }
   ],
   "source": [
    "numeric_columns = numeric_data.columns\n",
    "\n",
    "# Print the numeric columns\n",
    "print(\"Numeric columns:\")\n",
    "print(numeric_columns)\n"
   ]
  },
  {
   "cell_type": "code",
   "execution_count": 9,
   "id": "11ad6e0c-e705-4f6a-9402-e2ac4f4550b0",
   "metadata": {},
   "outputs": [
    {
     "name": "stdout",
     "output_type": "stream",
     "text": [
      "Data cleaning and preprocessing completed successfully. The cleaned data is saved to: Cleaned_Perovskite_Data.xlsx\n"
     ]
    }
   ],
   "source": [
    "# Step 4: Save the cleaned data to a new Excel file\n",
    "numeric_data.to_excel(output_file, index=False)\n",
    "\n",
    "print(\"Data cleaning and preprocessing completed successfully. The cleaned data is saved to:\", output_file)"
   ]
  },
  {
   "cell_type": "code",
   "execution_count": 11,
   "id": "984d6b7c-df14-448f-9369-e913e179d34f",
   "metadata": {},
   "outputs": [],
   "source": [
    "distinct_values_count = numeric_data['Perovskite_composition_long_form'].nunique()"
   ]
  },
  {
   "cell_type": "code",
   "execution_count": 13,
   "id": "d30d8de3-edd6-423f-ac30-1cd620b782b3",
   "metadata": {},
   "outputs": [
    {
     "data": {
      "text/plain": [
       "2238"
      ]
     },
     "execution_count": 13,
     "metadata": {},
     "output_type": "execute_result"
    }
   ],
   "source": [
    "distinct_values_count"
   ]
  },
  {
   "cell_type": "code",
   "execution_count": null,
   "id": "d04e7fc5-baab-4030-a707-a2e6cc26a615",
   "metadata": {},
   "outputs": [],
   "source": []
  }
 ],
 "metadata": {
  "kernelspec": {
   "display_name": "Python 3 (ipykernel)",
   "language": "python",
   "name": "python3"
  },
  "language_info": {
   "codemirror_mode": {
    "name": "ipython",
    "version": 3
   },
   "file_extension": ".py",
   "mimetype": "text/x-python",
   "name": "python",
   "nbconvert_exporter": "python",
   "pygments_lexer": "ipython3",
   "version": "3.12.7"
  }
 },
 "nbformat": 4,
 "nbformat_minor": 5
}
